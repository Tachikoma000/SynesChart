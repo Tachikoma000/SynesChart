{
 "cells": [
  {
   "cell_type": "code",
   "execution_count": null,
   "metadata": {},
   "outputs": [
    {
     "ename": "",
     "evalue": "",
     "output_type": "error",
     "traceback": [
      "\u001b[1;31mRunning cells with 'Python 3.10.2 ('apps-f8Jlysn0')' requires ipykernel package.\n",
      "\u001b[1;31mRun the following command to install 'ipykernel' into the Python environment. \n",
      "\u001b[1;31mCommand: '/Users/tachikoma000/.local/share/virtualenvs/apps-f8Jlysn0/bin/python -m pip install ipykernel -U --force-reinstall'"
     ]
    }
   ],
   "source": [
    "from query import get_bitcoin_market_chart\n",
    "\n",
    "# Call the function with 438 days of market data\n",
    "data = get_bitcoin_market_chart(438)\n",
    "\n",
    "# Print the response data\n",
    "print(data)"
   ]
  },
  {
   "cell_type": "code",
   "execution_count": null,
   "metadata": {},
   "outputs": [],
   "source": []
  }
 ],
 "metadata": {
  "kernelspec": {
   "display_name": "Python 3.10.2 ('venv': venv)",
   "language": "python",
   "name": "python3"
  },
  "language_info": {
   "name": "python",
   "version": "3.10.2"
  },
  "orig_nbformat": 4,
  "vscode": {
   "interpreter": {
    "hash": "1b419d62a6266a9cce3a42269000cdff90bcb8b381359e043d17acccac8e89e5"
   }
  }
 },
 "nbformat": 4,
 "nbformat_minor": 2
}
